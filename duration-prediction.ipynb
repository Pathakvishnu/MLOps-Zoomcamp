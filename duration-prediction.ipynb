{
 "cells": [
  {
   "cell_type": "code",
   "execution_count": 2,
   "metadata": {},
   "outputs": [],
   "source": [
    "import os\n",
    "import re\n",
    "import pandas as pd\n",
    "import numpy as np\n",
    "from tqdm import tqdm\n",
    "from sklearn.linear_model import LinearRegression\n",
    "from sklearn.metrics import mean_squared_error\n",
    "from sklearn.feature_extraction import DictVectorizer\n",
    "import matplotlib.pyplot as plt\n",
    "import seaborn as sns"
   ]
  },
  {
   "cell_type": "code",
   "execution_count": 7,
   "metadata": {},
   "outputs": [],
   "source": [
    "train_data = pd.read_parquet(\n",
    "    \"data/yellow_tripdata_2023-01.parquet\")\n",
    "\n",
    "test_data = pd.read_parquet(\n",
    "    \"data/yellow_tripdata_2023-02.parquet\")"
   ]
  },
  {
   "cell_type": "markdown",
   "metadata": {},
   "source": [
    "### Q1. Downloading the data"
   ]
  },
  {
   "cell_type": "code",
   "execution_count": 8,
   "metadata": {},
   "outputs": [
    {
     "name": "stdout",
     "output_type": "stream",
     "text": [
      "number of samples is 3066766 and number of attributes 19\n"
     ]
    }
   ],
   "source": [
    "## number of rows and columns in train data \n",
    "print(f\"number of samples is {train_data.shape[0]}\\\n",
    " and number of attributes {train_data.shape[1]}\")"
   ]
  },
  {
   "cell_type": "markdown",
   "metadata": {},
   "source": [
    "### Computing Duration"
   ]
  },
  {
   "cell_type": "code",
   "execution_count": 9,
   "metadata": {},
   "outputs": [],
   "source": [
    "trip_duration_datetime = train_data['tpep_dropoff_datetime']-train_data['tpep_pickup_datetime']"
   ]
  },
  {
   "cell_type": "code",
   "execution_count": 10,
   "metadata": {},
   "outputs": [
    {
     "name": "stderr",
     "output_type": "stream",
     "text": [
      "100%|██████████| 3066766/3066766 [00:46<00:00, 65357.67it/s]\n"
     ]
    }
   ],
   "source": [
    "minute_data = []\n",
    "for i in tqdm(range(train_data.shape[0])):\n",
    "    minute_data.append(\n",
    "        trip_duration_datetime.iloc[i].total_seconds()/60\n",
    "    )"
   ]
  },
  {
   "cell_type": "code",
   "execution_count": 11,
   "metadata": {},
   "outputs": [
    {
     "name": "stdout",
     "output_type": "stream",
     "text": [
      "standard deviation of the duration is 42.59434429744777\n"
     ]
    }
   ],
   "source": [
    "duration_std = np.array(minute_data).std()\n",
    "print(f\"standard deviation of the duration is {duration_std}\")"
   ]
  },
  {
   "cell_type": "markdown",
   "metadata": {},
   "source": [
    "### Dropping outliers"
   ]
  },
  {
   "cell_type": "code",
   "execution_count": 12,
   "metadata": {},
   "outputs": [],
   "source": [
    "minute_data = np.array(minute_data)\n",
    "train_data['duration'] = minute_data"
   ]
  },
  {
   "cell_type": "code",
   "execution_count": 13,
   "metadata": {},
   "outputs": [
    {
     "name": "stdout",
     "output_type": "stream",
     "text": [
      "data shape before (3066766, 20)\n",
      "data shape after (3009173, 20)\n"
     ]
    }
   ],
   "source": [
    "size_before_filter = len(minute_data)\n",
    "size_after_filter = len(minute_data[(minute_data>=1) & (minute_data<=60)])\n",
    "print(f\"data shape before {train_data.shape}\")\n",
    "train_data = train_data[(train_data.duration>=1) & (train_data.duration<=60)]\n",
    "print(f\"data shape after {train_data.shape}\")\n"
   ]
  },
  {
   "cell_type": "code",
   "execution_count": 14,
   "metadata": {},
   "outputs": [
    {
     "name": "stdout",
     "output_type": "stream",
     "text": [
      "fraction of the records left after dropping outliers 98.1220282212598\n"
     ]
    }
   ],
   "source": [
    "frac_left = (size_after_filter/size_before_filter)*100\n",
    "print(f\"fraction of the records left after dropping outliers {frac_left}\")"
   ]
  },
  {
   "cell_type": "code",
   "execution_count": 15,
   "metadata": {},
   "outputs": [],
   "source": [
    "categorical_col =[\"PULocationID\",\"DOLocationID\"]\n",
    "numerical_col = ['trip_distance']\n",
    "train_data[categorical_col] = train_data[categorical_col].astype(str)\n"
   ]
  },
  {
   "cell_type": "code",
   "execution_count": 16,
   "metadata": {},
   "outputs": [],
   "source": [
    "train_dicts = train_data[categorical_col + numerical_col].to_dict(orient='records')\n",
    "\n",
    "vectorizer = DictVectorizer()\n",
    "X_train = vectorizer.fit_transform(train_dicts)"
   ]
  },
  {
   "cell_type": "code",
   "execution_count": 17,
   "metadata": {},
   "outputs": [
    {
     "name": "stdout",
     "output_type": "stream",
     "text": [
      "one hot encoding feature 516\n"
     ]
    }
   ],
   "source": [
    "print(f\"one hot encoding feature {X_train.shape[1]}\")"
   ]
  },
  {
   "cell_type": "code",
   "execution_count": 18,
   "metadata": {},
   "outputs": [],
   "source": [
    "target = 'duration'\n",
    "y_train = train_data[target].values\n",
    "\n",
    "lr = LinearRegression()\n",
    "lr.fit(X_train, y_train)\n",
    "\n",
    "y_pred = lr.predict(X_train)"
   ]
  },
  {
   "cell_type": "code",
   "execution_count": 19,
   "metadata": {},
   "outputs": [
    {
     "data": {
      "text/plain": [
       "2.7673821210203418"
      ]
     },
     "execution_count": 19,
     "metadata": {},
     "output_type": "execute_result"
    }
   ],
   "source": [
    "np.sqrt(\n",
    "    mean_squared_error(y_train,\n",
    "                        y_pred,\n",
    "                        squared=False)\n",
    ")"
   ]
  },
  {
   "cell_type": "code",
   "execution_count": 20,
   "metadata": {},
   "outputs": [],
   "source": [
    "def evaluate(data:pd.DataFrame, categorical_col:list, numerical_col:list):\n",
    "\n",
    "    trip_duration_datetime = data['tpep_dropoff_datetime']-data['tpep_pickup_datetime']\n",
    "    ## remove outliers\n",
    "    minute_data = []\n",
    "    for i in tqdm(range(data.shape[0])):\n",
    "        minute_data.append(\n",
    "            trip_duration_datetime.iloc[i].total_seconds()/60\n",
    "        )\n",
    "\n",
    "    minute_data = np.array(minute_data)\n",
    "    data['duration'] = minute_data\n",
    "\n",
    "    data = data[(data.duration>=1) & (data.duration<=60)]\n",
    "\n",
    "    data[categorical_col] = data[categorical_col].astype(str)\n",
    "    \n",
    "    val_dicts = data[categorical_col + numerical_col].to_dict(orient='records')\n",
    "\n",
    "    X_valid = vectorizer.transform(val_dicts)\n",
    "    target = 'duration'\n",
    "    y_valid = data[target].values\n",
    "    y_pred = lr.predict(X_valid)\n",
    "\n",
    "    print(mean_squared_error(y_valid, y_pred, squared=False))"
   ]
  },
  {
   "cell_type": "code",
   "execution_count": 21,
   "metadata": {},
   "outputs": [
    {
     "name": "stderr",
     "output_type": "stream",
     "text": [
      "100%|██████████| 2913955/2913955 [00:43<00:00, 66679.51it/s]\n",
      "C:\\Users\\Pathak\\AppData\\Local\\Temp\\ipykernel_24628\\2299358535.py:16: SettingWithCopyWarning: \n",
      "A value is trying to be set on a copy of a slice from a DataFrame.\n",
      "Try using .loc[row_indexer,col_indexer] = value instead\n",
      "\n",
      "See the caveats in the documentation: https://pandas.pydata.org/pandas-docs/stable/user_guide/indexing.html#returning-a-view-versus-a-copy\n",
      "  data[categorical_col] = data[categorical_col].astype(str)\n"
     ]
    },
    {
     "name": "stdout",
     "output_type": "stream",
     "text": [
      "7.819950695172521\n"
     ]
    }
   ],
   "source": [
    "categorical_col =[\"PULocationID\",\"DOLocationID\"]\n",
    "numerical_col = ['trip_distance']\n",
    "evaluate(test_data,\n",
    "        categorical_col=categorical_col,\n",
    "        numerical_col=numerical_col\n",
    "        )"
   ]
  },
  {
   "cell_type": "code",
   "execution_count": null,
   "metadata": {},
   "outputs": [],
   "source": []
  },
  {
   "cell_type": "code",
   "execution_count": null,
   "metadata": {},
   "outputs": [],
   "source": []
  },
  {
   "cell_type": "code",
   "execution_count": null,
   "metadata": {},
   "outputs": [],
   "source": []
  }
 ],
 "metadata": {
  "kernelspec": {
   "display_name": "de-zoomcamp",
   "language": "python",
   "name": "python3"
  },
  "language_info": {
   "codemirror_mode": {
    "name": "ipython",
    "version": 3
   },
   "file_extension": ".py",
   "mimetype": "text/x-python",
   "name": "python",
   "nbconvert_exporter": "python",
   "pygments_lexer": "ipython3",
   "version": "3.9.16"
  }
 },
 "nbformat": 4,
 "nbformat_minor": 2
}
